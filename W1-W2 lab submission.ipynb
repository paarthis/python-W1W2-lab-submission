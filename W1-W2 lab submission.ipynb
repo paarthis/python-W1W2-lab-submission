{
 "cells": [
  {
   "cell_type": "markdown",
   "id": "2c8f47d3",
   "metadata": {
    "id": "2c8f47d3"
   },
   "source": [
    "# Lab Session"
   ]
  },
  {
   "cell_type": "markdown",
   "id": "f637aba6",
   "metadata": {
    "id": "f637aba6"
   },
   "source": [
    "## <font color='blue'> Table Of Contents </font>\n",
    "- Problem Statement \n",
    "- Load required libraries\n",
    "- Connect to DB using mysql-connector-python package\n",
    "- Create database named `e_commerce`\n",
    "- Create tables and insert data into tables as specified in the question\n",
    "- Read all the questions and write sql queries to meet the objective "
   ]
  },
  {
   "cell_type": "markdown",
   "id": "1073fc90",
   "metadata": {
    "id": "1073fc90"
   },
   "source": [
    "## <font color='blue'> Problem Statement </font>\n",
    "###  An E-commerce website manages its data in the form of various tables.\n",
    "You need to create a Database called `e_commerce` and various tables in it. The tables needed and attributes which need to be in every table are given before hand. All you have to do is create tables with data in it and answer some of the questions that follows."
   ]
  },
  {
   "cell_type": "markdown",
   "id": "48787355",
   "metadata": {
    "id": "48787355"
   },
   "source": [
    "### e_commerce Schema:"
   ]
  },
  {
   "cell_type": "markdown",
   "id": "78938fbc",
   "metadata": {
    "id": "78938fbc"
   },
   "source": [
    "![e_commerce%20_schema.png](attachment:e_commerce%20_schema.png)"
   ]
  },
  {
   "cell_type": "markdown",
   "id": "d9abe6c7",
   "metadata": {
    "id": "d9abe6c7"
   },
   "source": [
    "### Load Required Libraries"
   ]
  },
  {
   "cell_type": "code",
   "execution_count": 1,
   "id": "0178d08e",
   "metadata": {
    "id": "0178d08e"
   },
   "outputs": [],
   "source": [
    "import mysql.connector\n",
    "import pandas as pd"
   ]
  },
  {
   "cell_type": "markdown",
   "id": "d7d7fd5c",
   "metadata": {
    "id": "d7d7fd5c"
   },
   "source": [
    "### Connect to DB using Mysql-connector-python package"
   ]
  },
  {
   "cell_type": "code",
   "execution_count": 2,
   "id": "ef7bef72",
   "metadata": {
    "id": "ef7bef72"
   },
   "outputs": [
    {
     "ename": "DatabaseError",
     "evalue": "1007 (HY000): Can't create database 'e_commerce'; database exists",
     "output_type": "error",
     "traceback": [
      "\u001b[1;31m---------------------------------------------------------------------------\u001b[0m",
      "\u001b[1;31mMySQLInterfaceError\u001b[0m                       Traceback (most recent call last)",
      "File \u001b[1;32mC:\\ProgramData\\Anaconda3\\lib\\site-packages\\mysql\\connector\\connection_cext.py:555\u001b[0m, in \u001b[0;36mCMySQLConnection.cmd_query\u001b[1;34m(self, query, raw, buffered, raw_as_string)\u001b[0m\n\u001b[0;32m    554\u001b[0m         query \u001b[38;5;241m=\u001b[39m query\u001b[38;5;241m.\u001b[39mencode(\u001b[38;5;124m\"\u001b[39m\u001b[38;5;124mutf-8\u001b[39m\u001b[38;5;124m\"\u001b[39m)\n\u001b[1;32m--> 555\u001b[0m     \u001b[38;5;28;43mself\u001b[39;49m\u001b[38;5;241;43m.\u001b[39;49m\u001b[43m_cmysql\u001b[49m\u001b[38;5;241;43m.\u001b[39;49m\u001b[43mquery\u001b[49m\u001b[43m(\u001b[49m\n\u001b[0;32m    556\u001b[0m \u001b[43m        \u001b[49m\u001b[43mquery\u001b[49m\u001b[43m,\u001b[49m\n\u001b[0;32m    557\u001b[0m \u001b[43m        \u001b[49m\u001b[43mraw\u001b[49m\u001b[38;5;241;43m=\u001b[39;49m\u001b[43mraw\u001b[49m\u001b[43m,\u001b[49m\n\u001b[0;32m    558\u001b[0m \u001b[43m        \u001b[49m\u001b[43mbuffered\u001b[49m\u001b[38;5;241;43m=\u001b[39;49m\u001b[43mbuffered\u001b[49m\u001b[43m,\u001b[49m\n\u001b[0;32m    559\u001b[0m \u001b[43m        \u001b[49m\u001b[43mraw_as_string\u001b[49m\u001b[38;5;241;43m=\u001b[39;49m\u001b[43mraw_as_string\u001b[49m\u001b[43m,\u001b[49m\n\u001b[0;32m    560\u001b[0m \u001b[43m        \u001b[49m\u001b[43mquery_attrs\u001b[49m\u001b[38;5;241;43m=\u001b[39;49m\u001b[38;5;28;43mself\u001b[39;49m\u001b[38;5;241;43m.\u001b[39;49m\u001b[43m_query_attrs\u001b[49m\u001b[43m,\u001b[49m\n\u001b[0;32m    561\u001b[0m \u001b[43m    \u001b[49m\u001b[43m)\u001b[49m\n\u001b[0;32m    562\u001b[0m \u001b[38;5;28;01mexcept\u001b[39;00m MySQLInterfaceError \u001b[38;5;28;01mas\u001b[39;00m err:\n",
      "\u001b[1;31mMySQLInterfaceError\u001b[0m: Can't create database 'e_commerce'; database exists",
      "\nThe above exception was the direct cause of the following exception:\n",
      "\u001b[1;31mDatabaseError\u001b[0m                             Traceback (most recent call last)",
      "Input \u001b[1;32mIn [2]\u001b[0m, in \u001b[0;36m<cell line: 5>\u001b[1;34m()\u001b[0m\n\u001b[0;32m      1\u001b[0m connection \u001b[38;5;241m=\u001b[39m mysql\u001b[38;5;241m.\u001b[39mconnector\u001b[38;5;241m.\u001b[39mconnect(host \u001b[38;5;241m=\u001b[39m \u001b[38;5;124m\"\u001b[39m\u001b[38;5;124mlocalhost\u001b[39m\u001b[38;5;124m\"\u001b[39m,\n\u001b[0;32m      2\u001b[0m                                     user \u001b[38;5;241m=\u001b[39m \u001b[38;5;124m\"\u001b[39m\u001b[38;5;124mroot\u001b[39m\u001b[38;5;124m\"\u001b[39m,\n\u001b[0;32m      3\u001b[0m                                     password \u001b[38;5;241m=\u001b[39m \u001b[38;5;124m\"\u001b[39m\u001b[38;5;124mkrsna16108\u001b[39m\u001b[38;5;124m\"\u001b[39m)\n\u001b[0;32m      4\u001b[0m cursorObject \u001b[38;5;241m=\u001b[39m connection\u001b[38;5;241m.\u001b[39mcursor()\n\u001b[1;32m----> 5\u001b[0m \u001b[43mcursorObject\u001b[49m\u001b[38;5;241;43m.\u001b[39;49m\u001b[43mexecute\u001b[49m\u001b[43m(\u001b[49m\u001b[38;5;124;43m\"\u001b[39;49m\u001b[38;5;124;43mCREATE DATABASE e_commerce\u001b[39;49m\u001b[38;5;124;43m\"\u001b[39;49m\u001b[43m)\u001b[49m\n",
      "File \u001b[1;32mC:\\ProgramData\\Anaconda3\\lib\\site-packages\\mysql\\connector\\cursor_cext.py:276\u001b[0m, in \u001b[0;36mCMySQLCursor.execute\u001b[1;34m(self, operation, params, multi)\u001b[0m\n\u001b[0;32m    271\u001b[0m             \u001b[38;5;28;01mraise\u001b[39;00m ProgrammingError(\n\u001b[0;32m    272\u001b[0m                 \u001b[38;5;124m\"\u001b[39m\u001b[38;5;124mNot all parameters were used in the SQL statement\u001b[39m\u001b[38;5;124m\"\u001b[39m\n\u001b[0;32m    273\u001b[0m             )\n\u001b[0;32m    275\u001b[0m \u001b[38;5;28;01mtry\u001b[39;00m:\n\u001b[1;32m--> 276\u001b[0m     result \u001b[38;5;241m=\u001b[39m \u001b[38;5;28;43mself\u001b[39;49m\u001b[38;5;241;43m.\u001b[39;49m\u001b[43m_cnx\u001b[49m\u001b[38;5;241;43m.\u001b[39;49m\u001b[43mcmd_query\u001b[49m\u001b[43m(\u001b[49m\n\u001b[0;32m    277\u001b[0m \u001b[43m        \u001b[49m\u001b[43mstmt\u001b[49m\u001b[43m,\u001b[49m\n\u001b[0;32m    278\u001b[0m \u001b[43m        \u001b[49m\u001b[43mraw\u001b[49m\u001b[38;5;241;43m=\u001b[39;49m\u001b[38;5;28;43mself\u001b[39;49m\u001b[38;5;241;43m.\u001b[39;49m\u001b[43m_raw\u001b[49m\u001b[43m,\u001b[49m\n\u001b[0;32m    279\u001b[0m \u001b[43m        \u001b[49m\u001b[43mbuffered\u001b[49m\u001b[38;5;241;43m=\u001b[39;49m\u001b[38;5;28;43mself\u001b[39;49m\u001b[38;5;241;43m.\u001b[39;49m\u001b[43m_buffered\u001b[49m\u001b[43m,\u001b[49m\n\u001b[0;32m    280\u001b[0m \u001b[43m        \u001b[49m\u001b[43mraw_as_string\u001b[49m\u001b[38;5;241;43m=\u001b[39;49m\u001b[38;5;28;43mself\u001b[39;49m\u001b[38;5;241;43m.\u001b[39;49m\u001b[43m_raw_as_string\u001b[49m\u001b[43m,\u001b[49m\n\u001b[0;32m    281\u001b[0m \u001b[43m    \u001b[49m\u001b[43m)\u001b[49m\n\u001b[0;32m    282\u001b[0m \u001b[38;5;28;01mexcept\u001b[39;00m MySQLInterfaceError \u001b[38;5;28;01mas\u001b[39;00m err:\n\u001b[0;32m    283\u001b[0m     \u001b[38;5;28;01mraise\u001b[39;00m get_mysql_exception(\n\u001b[0;32m    284\u001b[0m         msg\u001b[38;5;241m=\u001b[39merr\u001b[38;5;241m.\u001b[39mmsg, errno\u001b[38;5;241m=\u001b[39merr\u001b[38;5;241m.\u001b[39merrno, sqlstate\u001b[38;5;241m=\u001b[39merr\u001b[38;5;241m.\u001b[39msqlstate\n\u001b[0;32m    285\u001b[0m     ) \u001b[38;5;28;01mfrom\u001b[39;00m \u001b[38;5;21;01merr\u001b[39;00m\n",
      "File \u001b[1;32mC:\\ProgramData\\Anaconda3\\lib\\site-packages\\mysql\\connector\\connection_cext.py:563\u001b[0m, in \u001b[0;36mCMySQLConnection.cmd_query\u001b[1;34m(self, query, raw, buffered, raw_as_string)\u001b[0m\n\u001b[0;32m    555\u001b[0m     \u001b[38;5;28mself\u001b[39m\u001b[38;5;241m.\u001b[39m_cmysql\u001b[38;5;241m.\u001b[39mquery(\n\u001b[0;32m    556\u001b[0m         query,\n\u001b[0;32m    557\u001b[0m         raw\u001b[38;5;241m=\u001b[39mraw,\n\u001b[1;32m   (...)\u001b[0m\n\u001b[0;32m    560\u001b[0m         query_attrs\u001b[38;5;241m=\u001b[39m\u001b[38;5;28mself\u001b[39m\u001b[38;5;241m.\u001b[39m_query_attrs,\n\u001b[0;32m    561\u001b[0m     )\n\u001b[0;32m    562\u001b[0m \u001b[38;5;28;01mexcept\u001b[39;00m MySQLInterfaceError \u001b[38;5;28;01mas\u001b[39;00m err:\n\u001b[1;32m--> 563\u001b[0m     \u001b[38;5;28;01mraise\u001b[39;00m get_mysql_exception(\n\u001b[0;32m    564\u001b[0m         err\u001b[38;5;241m.\u001b[39merrno, msg\u001b[38;5;241m=\u001b[39merr\u001b[38;5;241m.\u001b[39mmsg, sqlstate\u001b[38;5;241m=\u001b[39merr\u001b[38;5;241m.\u001b[39msqlstate\n\u001b[0;32m    565\u001b[0m     ) \u001b[38;5;28;01mfrom\u001b[39;00m \u001b[38;5;21;01merr\u001b[39;00m\n\u001b[0;32m    566\u001b[0m \u001b[38;5;28;01mexcept\u001b[39;00m \u001b[38;5;167;01mAttributeError\u001b[39;00m \u001b[38;5;28;01mas\u001b[39;00m err:\n\u001b[0;32m    567\u001b[0m     addr \u001b[38;5;241m=\u001b[39m (\n\u001b[0;32m    568\u001b[0m         \u001b[38;5;28mself\u001b[39m\u001b[38;5;241m.\u001b[39m_unix_socket \u001b[38;5;28;01mif\u001b[39;00m \u001b[38;5;28mself\u001b[39m\u001b[38;5;241m.\u001b[39m_unix_socket \u001b[38;5;28;01melse\u001b[39;00m \u001b[38;5;124mf\u001b[39m\u001b[38;5;124m\"\u001b[39m\u001b[38;5;132;01m{\u001b[39;00m\u001b[38;5;28mself\u001b[39m\u001b[38;5;241m.\u001b[39m_host\u001b[38;5;132;01m}\u001b[39;00m\u001b[38;5;124m:\u001b[39m\u001b[38;5;132;01m{\u001b[39;00m\u001b[38;5;28mself\u001b[39m\u001b[38;5;241m.\u001b[39m_port\u001b[38;5;132;01m}\u001b[39;00m\u001b[38;5;124m\"\u001b[39m\n\u001b[0;32m    569\u001b[0m     )\n",
      "\u001b[1;31mDatabaseError\u001b[0m: 1007 (HY000): Can't create database 'e_commerce'; database exists"
     ]
    }
   ],
   "source": [
    "connection = mysql.connector.connect(host = \"localhost\",\n",
    "                                    user = \"root\",\n",
    "                                    password = \"krsna16108\")\n",
    "cursorObject = connection.cursor()\n",
    "cursorObject.execute(\"CREATE DATABASE e_commerce\")"
   ]
  },
  {
   "cell_type": "markdown",
   "id": "9d55e510",
   "metadata": {
    "id": "9d55e510"
   },
   "source": [
    "### You are required to create a database named 'e_commerce'"
   ]
  },
  {
   "cell_type": "code",
   "execution_count": 3,
   "id": "42a154f2",
   "metadata": {
    "id": "42a154f2"
   },
   "outputs": [],
   "source": [
    "connection = mysql.connector.connect(host = \"localhost\",\n",
    "                                    user = \"root\",\n",
    "                                    password = \"krsna16108\",\n",
    "                                    database = 'e_commerce')\n",
    "\n",
    "cursorObject = connection.cursor()"
   ]
  },
  {
   "cell_type": "markdown",
   "id": "480dc986",
   "metadata": {
    "id": "480dc986"
   },
   "source": [
    "### Q1. Create tables for supplier, customer, category, product, productDetails, order, rating to store the data for the E-commerce with the schema definition given below.\n",
    "\n",
    "\n",
    "- **`supplier`**(SUPP_ID int primary key, SUPP_NAME varchar(50), SUPP_CITY varchar(50), SUPP_PHONE varchar(10))\n",
    "\n",
    "\n",
    "- **`customer`** (CUS_ID INT NOT NULL, CUS_NAME VARCHAR(20) NULL DEFAULT NULL, CUS_PHONE VARCHAR(10), CUS_CITY varchar(30) ,CUS_GENDER CHAR,PRIMARY KEY (CUS_ID))\n",
    "\n",
    "\n",
    "- **`category`** (CAT_ID INT NOT NULL, CAT_NAME VARCHAR(20) NULL DEFAULT NULL,PRIMARY KEY (CAT_ID))\n",
    "\n",
    "\n",
    "- **`product`** (PRO_ID INT NOT NULL, PRO_NAME VARCHAR(20) NULL DEFAULT NULL, PRO_DESC VARCHAR(60) NULL DEFAULT NULL, CAT_ID INT NOT NULL,PRIMARY KEY (PRO_ID),FOREIGN KEY (CAT_ID) REFERENCES CATEGORY (CAT_ID))\n",
    "\n",
    "\n",
    "- **`product_details`** (PROD_ID INT NOT NULL, PRO_ID INT NOT NULL, SUPP_ID INT NOT NULL, PROD_PRICE INT NOT NULL,\n",
    "  PRIMARY KEY (PROD_ID),FOREIGN KEY (PRO_ID) REFERENCES PRODUCT (PRO_ID), FOREIGN KEY (SUPP_ID) REFERENCES SUPPLIER(SUPP_ID))\n",
    "  \n",
    "  \n",
    "- **`order`** (ORD_ID INT NOT NULL, ORD_AMOUNT INT NOT NULL, ORD_DATE DATE, CUS_ID INT NOT NULL, PROD_ID INT NOT NULL,PRIMARY KEY (ORD_ID),FOREIGN KEY (CUS_ID) REFERENCES CUSTOMER(CUS_ID),FOREIGN KEY (PROD_ID) REFERENCES PRODUCT_DETAILS(PROD_ID))\n",
    "\n",
    "\n",
    "- **`rating`** (RAT_ID INT NOT NULL, CUS_ID INT NOT NULL, SUPP_ID INT NOT NULL, RAT_RATSTARS INT NOT NULL,PRIMARY KEY (RAT_ID),FOREIGN KEY (SUPP_ID) REFERENCES SUPPLIER (SUPP_ID),FOREIGN KEY (CUS_ID) REFERENCES CUSTOMER(CUS_ID))"
   ]
  },
  {
   "cell_type": "code",
   "execution_count": null,
   "id": "967b718f",
   "metadata": {
    "id": "967b718f"
   },
   "outputs": [],
   "source": [
    "table_creation_query = \"\"\"create table supplier(SUPP_ID int primary key, SUPP_NAME varchar(50), SUPP_CITY varchar(50), SUPP_PHONE varchar(20));\n",
    "                    create table customer(CUS_ID INT NOT NULL, CUS_NAME VARCHAR(20) NULL DEFAULT NULL, CUS_PHONE VARCHAR(10), CUS_CITY varchar(30) ,CUS_GENDER CHAR,PRIMARY KEY (CUS_ID));\n",
    "                    create table category(CAT_ID INT NOT NULL, CAT_NAME VARCHAR(20) NULL DEFAULT NULL,PRIMARY KEY (CAT_ID));\n",
    "                    create table product(PRO_ID INT NOT NULL, PRO_NAME VARCHAR(20) NULL DEFAULT NULL, PRO_DESC VARCHAR(60) NULL DEFAULT NULL, CAT_ID INT NOT NULL,PRIMARY KEY (PRO_ID),FOREIGN KEY (CAT_ID) REFERENCES CATEGORY (CAT_ID));\n",
    "                    create table product_details(PROD_ID INT NOT NULL, PRO_ID INT NOT NULL, SUPP_ID INT NOT NULL, PROD_PRICE INT NOT NULL, PRIMARY KEY (PROD_ID),FOREIGN KEY (PRO_ID) REFERENCES PRODUCT (PRO_ID), FOREIGN KEY (SUPP_ID) REFERENCES SUPPLIER(SUPP_ID));\n",
    "                    create table orders(ORD_ID INT NOT NULL, ORD_AMOUNT INT NOT NULL, ORD_DATE DATE, CUS_ID INT NOT NULL, PROD_ID INT NOT NULL,PRIMARY KEY (ORD_ID),FOREIGN KEY (CUS_ID) REFERENCES CUSTOMER(CUS_ID),FOREIGN KEY (PROD_ID) REFERENCES PRODUCT_DETAILS(PROD_ID));\n",
    "                    create table rating(RAT_ID INT NOT NULL, CUS_ID INT NOT NULL, SUPP_ID INT NOT NULL, RAT_RATSTARS INT NOT NULL,PRIMARY KEY (RAT_ID),FOREIGN KEY (SUPP_ID) REFERENCES SUPPLIER (SUPP_ID),FOREIGN KEY (CUS_ID) REFERENCES CUSTOMER(CUS_ID));\"\"\"\n",
    "\n",
    "#executing query\n",
    "cursorObject.execute(table_creation_query,multi=True)\n"
   ]
  },
  {
   "cell_type": "markdown",
   "id": "1f653731",
   "metadata": {
    "id": "1f653731"
   },
   "source": [
    "### Q2. Insert the following data in the table created above\n",
    "#### `Note:` If you are getting any error while inserting the data into tables, Kindly close the connection and reconnect\n",
    "\n",
    "#### Table:  supplier\n",
    "| SUPP_ID | SUPP_NAME | SUPP_CITY | SUPP_PHONE |\n",
    "| --- | --- | --- | --- | \n",
    "| 1 | Rajesh Retails | Delhi | 1234567890 |\n",
    "| 2 | Appario Ltd. | Mumbai | 258963147032 | \n",
    "| 3 | Knome products | Bangalore | 9785462315 |\n",
    "| 4 | Bansal Retails | Kochi | 8975463285 |\n",
    "| 5 | Mittal Ltd. | Lucknow | 7898456532 |"
   ]
  },
  {
   "cell_type": "code",
   "execution_count": 4,
   "id": "f6dddd07",
   "metadata": {
    "id": "f6dddd07"
   },
   "outputs": [],
   "source": [
    "# insert into \"supplier\" table\n",
    "insert_supplier = \"\"\"INSERT INTO supplier (SUPP_ID, SUPP_NAME, SUPP_CITY, SUPP_PHONE) values (%s,%s,%s,%s)\"\"\"\n",
    "val = [(1, 'Rajesh Retails', 'Delhi', 1234567890),\n",
    "        (2, 'Appario Ltd.', 'Mumbai', 258963147032),\n",
    "        (3, 'Knome products', 'Bangalore', 9785462315),\n",
    "        (4, 'Bansal Retails', 'Kochi', 8975463285),\n",
    "        (5, 'Mittal Ltd,', 'Lucknow', 789845632)]\n",
    "\n",
    "cursorObject.executemany(insert_supplier, val)\n",
    "connection.commit()\n",
    "        "
   ]
  },
  {
   "cell_type": "markdown",
   "id": "e8a070a6",
   "metadata": {
    "id": "e8a070a6"
   },
   "source": [
    "#### Table:  customer\n",
    "| CUS_ID | CUS_NAME | SUPP_PHONE | CUS_CITY | CUS_GENDER\n",
    "| --- | --- | --- | --- | --- |\n",
    "| 1 | AAKASH | 9999999999 | DELHI | M |\n",
    "| 2 | AMAN | 9785463215 | NOIDA | M |\n",
    "| 3 | NEHA | 9999999998 | MUMBAI | F |\n",
    "| 4 | MEGHA | 9994562399 | KOLKATA | F |\n",
    "| 5 | PULKIT | 7895999999 | LUCKNOW | M |"
   ]
  },
  {
   "cell_type": "code",
   "execution_count": null,
   "id": "15a4ee87",
   "metadata": {
    "id": "15a4ee87"
   },
   "outputs": [],
   "source": [
    "# insert into \"customer\" table\n",
    "insert_customer = \"\"\"INSERT INTO customer (CUS_ID, CUS_NAME, SUPP_PHONE, CUS_CITY, CUS_GENDER) values (%s,%s,%s,%s,%s)\"\"\"\n",
    "val = [(1, 'AAKASH', 9999999999, 'DELHI', 'M'),\n",
    "      (2, 'AMAN', 9785463215, 'NOIDA', 'M'),\n",
    "      (3, 'NEHA', 9999999998, 'MUMBAI', 'F'),\n",
    "      (4, 'MEGHA', 9994562399, 'KOLKATA', 'F'),\n",
    "      (5, 'PULKIT', 7895999999, 'LUCKNOW', 'M')]\n",
    "\n",
    "cursorObject.executemany(insert_customer, val)\n",
    "connection.commit()"
   ]
  },
  {
   "cell_type": "markdown",
   "id": "b68bfbc2",
   "metadata": {
    "id": "b68bfbc2"
   },
   "source": [
    "#### Table:  category\n",
    "| CAT_ID | CAT_NAME | \n",
    "| --- | --- |  \n",
    "| 1 | BOOKS |\n",
    "| 2 | GAMES |  \n",
    "| 3 | GROCERIES | \n",
    "| 4 | ELECTRONICS | \n",
    "| 5 | CLOTHES | "
   ]
  },
  {
   "cell_type": "code",
   "execution_count": null,
   "id": "05a00abc",
   "metadata": {
    "id": "05a00abc"
   },
   "outputs": [],
   "source": [
    "# insert into \"categoty\" table\n",
    "insert_category = \"\"\"INSERT INTO category (CAT_ID, CAT_NAME) values (%s,%s)\"\"\"\n",
    "val = [(1, 'BOOKS'),\n",
    "      (2, 'GAMES'),\n",
    "       (3, 'GROCERIES'),\n",
    "      (4, 'ELECTRONICS'),\n",
    "      (5, 'CLOTHES')]\n",
    "\n",
    "cursorObject.executemany(insert_category, val)\n",
    "connection.commit()"
   ]
  },
  {
   "cell_type": "markdown",
   "id": "eb3bc592",
   "metadata": {
    "id": "eb3bc592"
   },
   "source": [
    "#### Table:  product\n",
    "| PRO_ID | PRO_NAME | PRO_DESC | CAT_ID |\n",
    "| --- | --- | --- | --- | \n",
    "| 1 | GTA V | DFJDJFDJFDJFDJFJF | 2 |\n",
    "| 2 | TSHIRT | DFDFJDFJDKFD | 5 | \n",
    "| 3 | ROG LAPTOP | DFNTTNTNTERND | 4 |\n",
    "| 4 | OATS | REURENTBTOTH | 3 |\n",
    "| 5 | HARRY POTTER | NBEMCTHTJTH | 1 |\n"
   ]
  },
  {
   "cell_type": "code",
   "execution_count": null,
   "id": "cdfbdfad",
   "metadata": {
    "id": "cdfbdfad"
   },
   "outputs": [],
   "source": [
    "# insert into \"product\" table\n",
    "insert_product = \"\"\"INSERT INTO product (PRO_ID, PRO_NAME, PRO_DESC, CAT_ID) values (%s,%s%s,%s)\"\"\"\n",
    "val = [(1, 'GTAV', 'DFJDJFDJFDJFDJFJF', 2),\n",
    "      (2, 'TSHIRT', 'DFDFJDFJDKFD', 5),\n",
    "      (3, 'ROG LAPTOP', 'DFNTTNTNTERND', 4),\n",
    "       (4, 'OATS', 'REURENTBTOTH', 3),\n",
    "      (5, 'HARRY POTTER', 'NBEMCTHTJTH', 1)]\n",
    "\n",
    "cursorObject.executemany(insert_product, val)\n",
    "connection.commit()"
   ]
  },
  {
   "cell_type": "markdown",
   "id": "cfa8a47d",
   "metadata": {
    "id": "cfa8a47d"
   },
   "source": [
    "#### Table:  product_details\n",
    "| PROD_ID | PRO_ID | SUPP_ID | PROD_PRICE |\n",
    "| --- | --- | --- | --- | \n",
    "| 1 | 1 | 2 | 1500 |\n",
    "| 2 | 3 | 5 | 30000 | \n",
    "| 3 | 5 | 1 | 3000 |\n",
    "| 4 | 2 | 3 | 2500 |\n",
    "| 5 | 4 | 1 | 1000 |"
   ]
  },
  {
   "cell_type": "code",
   "execution_count": null,
   "id": "c18ea964",
   "metadata": {
    "id": "c18ea964"
   },
   "outputs": [],
   "source": [
    "# insert into \"product_details\" table\n",
    "insert_product_details = \"\"\"INSERT INTO product_details (PROD_ID, PRO_ID, SUPP_ID, PROD_PRICE) values (%s,%s%s,%s)\"\"\"\n",
    "val = [(, 1, 2, 1500),\n",
    "       (2, 3, 5, 30000),\n",
    "       (3, 5, 1, 3000),\n",
    "       (4, 2, 3, 2500), \n",
    "       (5, 4, 1, 1000)]\n",
    "\n",
    "cursorObject.executemany(insert_product_details, val)\n",
    "connection.commit()\n",
    "        "
   ]
  },
  {
   "cell_type": "markdown",
   "id": "1df49086",
   "metadata": {
    "id": "1df49086"
   },
   "source": [
    "#### Table:  orders\n",
    "| ORD_ID | ORD_AMOUNT | ORD_DATE | CUS_ID | PROD_ID\n",
    "| --- | --- | --- | --- | --- |\n",
    "| 20 | 1500 | 2021-10-12 | 3 | 5 |\n",
    "| 25 | 30500 | 2021-09-16 | 5 | 2 |\n",
    "| 26 | 2000 | 2021-10-05 | 1 | 1 |\n",
    "| 30 | 3500 | 2021-08-16 | 4 | 3 |\n",
    "| 50 | 2000 | 2021-10-06 | 2 | 1 |"
   ]
  },
  {
   "cell_type": "code",
   "execution_count": null,
   "id": "0d97dc92",
   "metadata": {
    "id": "0d97dc92"
   },
   "outputs": [],
   "source": [
    "# insert into \"orders\" table\n",
    "insert_orders = \"\"\"INSERT INTO orders (ORD_ID, ORD_AMOUNT, ORD_DATE, CUS_ID, PROD_ID) values (%s,%s%s,%s,%s)\"\"\"\n",
    "val = [(20, 1500, '2021-10-12', 3,5), \n",
    "      (25, 30500, '2021-9-16', 5, 2),\n",
    "      (26, 2000, '2021-10-5', 1, 1),\n",
    "      (30, 3500, '2021-8-16', 4, 3),\n",
    "      (50, 2000, '2021-10-6', 2, 1)]\n",
    "\n",
    "cursorObject.executemany(insert_orders, val)\n",
    "connection.commit()"
   ]
  },
  {
   "cell_type": "markdown",
   "id": "75b8ce5f",
   "metadata": {
    "id": "75b8ce5f"
   },
   "source": [
    "#### Table: rating\n",
    "| RAT_ID | CUS_ID | SUPP_ID | RAT_RATSTARS |\n",
    "| --- | --- | --- | --- | \n",
    "| 1 | 2 | 2 | 4 |\n",
    "| 2 | 3 | 4 | 3 | \n",
    "| 3 | 5 | 1 | 5 |\n",
    "| 4 | 1 | 3 | 2 |\n",
    "| 5 | 4 | 5 | 4 |"
   ]
  },
  {
   "cell_type": "code",
   "execution_count": null,
   "id": "6d5f1e18",
   "metadata": {
    "id": "6d5f1e18"
   },
   "outputs": [],
   "source": [
    "# insert into \"rating\" table\n",
    "insert_rating = \"\"\"INSERT INTO rating (RAT_ID, CUS_ID, SUPP_ID, RAT_RATSTARS) values (%s,%s%s,%s)\"\"\"\n",
    "val = [(1, 2, 2, 4),\n",
    "      (2, 3, 4, 3),\n",
    "      (3, 5, 1, 5),\n",
    "      (4, 1, 3, 2),\n",
    "      (5, 4, 5, 4)]\n",
    "\n",
    "cursorObject.executemany(insert_rating, val)\n",
    "connection.commit()"
   ]
  },
  {
   "cell_type": "markdown",
   "id": "b59361c3",
   "metadata": {
    "id": "b59361c3"
   },
   "source": [
    "### Q3) Display the number of the customer group by their genders who have placed any order of amount greater than or equal to Rs.3000."
   ]
  },
  {
   "cell_type": "code",
   "execution_count": null,
   "id": "fcafaf3c",
   "metadata": {
    "id": "fcafaf3c"
   },
   "outputs": [],
   "source": [
    "\"\"\"select customer.cus_gender,count(customer.cus_gender) as count from customer inner join 'orders' \n",
    "on customer.cus_id='orders'.cus_id where 'orders'.ord_amount<=3000 group by customer.cus_gender;\"\"\""
   ]
  },
  {
   "cell_type": "markdown",
   "id": "e49e04f5",
   "metadata": {
    "id": "e49e04f5"
   },
   "source": [
    "### Q4) Display all the order along with product name ordered by a customer having Customer_Id=2;"
   ]
  },
  {
   "cell_type": "code",
   "execution_count": null,
   "id": "9dcb7883",
   "metadata": {
    "id": "9dcb7883"
   },
   "outputs": [],
   "source": [
    "\"\"\"select 'orders'.*,product.pro_name from 'orders' , product_details, product where 'orders'.cus_id=2 and \n",
    "'orders'.prod_id=product_details.prod_id and product_details.pro_d=product.pro_id\"\"\""
   ]
  },
  {
   "cell_type": "markdown",
   "id": "3a33398e",
   "metadata": {
    "id": "3a33398e"
   },
   "source": [
    "### Q5) Display the Supplier details who can supply more than one product."
   ]
  },
  {
   "cell_type": "code",
   "execution_count": null,
   "id": "e933b979",
   "metadata": {
    "id": "e933b979"
   },
   "outputs": [],
   "source": [
    "\"\"\"select supplier.* from supplier, product_details where supplier.supp_id in \n",
    "(select product_details.supp_id from product_details group by product_details.supp_id having count(product_details.supp_id)>1)\n",
    "group by supplier.supp_id;\"\"\""
   ]
  },
  {
   "cell_type": "markdown",
   "id": "5fd319ef",
   "metadata": {
    "id": "5fd319ef"
   },
   "source": [
    "### Q6) Find the category of the product whose order amount is minimum."
   ]
  },
  {
   "cell_type": "code",
   "execution_count": null,
   "id": "06f5cb51",
   "metadata": {
    "id": "06f5cb51"
   },
   "outputs": [],
   "source": [
    "\"\"\"select category.* from 'orders' inner join product_details on 'orders'.prod_id=product_details.prod_id\n",
    "inner join product on product.pro_id=product_details.pro_id inner jon category on category.cat_id=product.cat_id having min('orders'.ord_amount);\"\"\""
   ]
  },
  {
   "cell_type": "markdown",
   "id": "107102d4",
   "metadata": {
    "id": "107102d4"
   },
   "source": [
    "### Q7) Display the Id and Name of the Product ordered after “2021-10-05”."
   ]
  },
  {
   "cell_type": "code",
   "execution_count": null,
   "id": "5d3fc7e8",
   "metadata": {
    "id": "5d3fc7e8"
   },
   "outputs": [],
   "source": [
    "\"\"\"select product.pro_id, product.pro_name from 'orders' inner join product_details on product_details.prod_id='orders'.prod_id\n",
    "inner join product on product.pro_id=product_details.pro_id where 'orders'.ord_date>\"2021-10-05\";\"\"\""
   ]
  },
  {
   "cell_type": "markdown",
   "id": "bdce7167",
   "metadata": {
    "id": "bdce7167"
   },
   "source": [
    "### Q8) Print the top 3 supplier name and id and rating on the basis of their rating along with the customer name who has given the rating."
   ]
  },
  {
   "cell_type": "code",
   "execution_count": null,
   "id": "fa0cbe44",
   "metadata": {
    "id": "fa0cbe44"
   },
   "outputs": [],
   "source": [
    "\"\"\"select supplier.supp_id,supplpier.supp_name,customer.cus_name,rating.rat_ratstars from rating\n",
    "inner join supplier on rating.supp_id=supplier.supp_id inner join customer on rating.cus_id=customer.cus_id order\n",
    "by rating.rat_ratstars desc limit 3;\"\"\""
   ]
  },
  {
   "cell_type": "markdown",
   "id": "346ec2a1",
   "metadata": {
    "id": "346ec2a1"
   },
   "source": [
    "### Q9) Display customer name and gender whose names start or end with character 'A'."
   ]
  },
  {
   "cell_type": "code",
   "execution_count": null,
   "id": "e571b5fd",
   "metadata": {
    "id": "e571b5fd"
   },
   "outputs": [],
   "source": [
    "\"\"\"select customer.cus_name, customer.cus_gender from customer where customer.cus_name like 'A%' or customer.cus_name like '%A';\"\"\""
   ]
  },
  {
   "cell_type": "markdown",
   "id": "d0b01f77",
   "metadata": {
    "id": "d0b01f77"
   },
   "source": [
    "### Q10) Display the total order amount of the male customers."
   ]
  },
  {
   "cell_type": "code",
   "execution_count": null,
   "id": "c3fa76e3",
   "metadata": {
    "id": "c3fa76e3"
   },
   "outputs": [],
   "source": [
    "\"\"\"select sum('orders'.ord_amount) as Amount from 'orders' inner join customer on 'orders'.cus_id=customer.cus_id\n",
    "where customer.cus_gender='M';\"\"\""
   ]
  },
  {
   "cell_type": "markdown",
   "id": "ff8a9971",
   "metadata": {
    "id": "ff8a9971"
   },
   "source": [
    "### Q11) Display all the Customers left outer join with  the orders"
   ]
  },
  {
   "cell_type": "code",
   "execution_count": null,
   "id": "a340c6d6",
   "metadata": {
    "id": "a340c6d6"
   },
   "outputs": [],
   "source": [
    "\"\"\"select * from customer left outer join 'orders' on customer.cus_id='orders'.cus_id;\"\"\""
   ]
  },
  {
   "cell_type": "markdown",
   "id": "0a72afe3",
   "metadata": {
    "id": "0a72afe3"
   },
   "source": [
    "**NOTE:** Always close an open connection once you are done with the database operations"
   ]
  },
  {
   "cell_type": "markdown",
   "id": "8c88f479",
   "metadata": {
    "id": "8c88f479"
   },
   "source": [
    "## Happy Learning:)"
   ]
  }
 ],
 "metadata": {
  "colab": {
   "name": "Lab Session  -  E-Commerce.ipynb",
   "provenance": []
  },
  "kernelspec": {
   "display_name": "Python 3 (ipykernel)",
   "language": "python",
   "name": "python3"
  },
  "language_info": {
   "codemirror_mode": {
    "name": "ipython",
    "version": 3
   },
   "file_extension": ".py",
   "mimetype": "text/x-python",
   "name": "python",
   "nbconvert_exporter": "python",
   "pygments_lexer": "ipython3",
   "version": "3.9.12"
  }
 },
 "nbformat": 4,
 "nbformat_minor": 5
}
